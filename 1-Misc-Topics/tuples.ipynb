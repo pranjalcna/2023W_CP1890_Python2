{
 "cells": [
  {
   "cell_type": "markdown",
   "metadata": {},
   "source": [
    "# Python Tuples\n",
    "Python provides another type that is an ordered collection of objects, called a tuple.\n",
    "\n",
    "Pronunciation varies depending on whom you ask. Some pronounce it as though it were spelled “too-ple” (rhyming with “Mott the Hoople”), and others as though it were spelled “tup-ple” (rhyming with “supple”). My inclination is the latter, since it presumably derives from the same origin as “quintuple,” “sextuple,” “octuple,” and so on, and everyone I know pronounces these latter as though they rhymed with “supple.”\n",
    "\n",
    "## Defining and Using Tuples\n",
    "Tuples are identical to lists in all respects, except for the following properties:\n",
    "* Tuples are defined by enclosing the elements in parentheses (`()`) instead of square brackets (`[]`).\n",
    "* Tuples are immutable.\n",
    "\n",
    "Here is a short example showing a tuple definition, indexing, and slicing:"
   ]
  },
  {
   "cell_type": "code",
   "execution_count": 1,
   "metadata": {},
   "outputs": [
    {
     "name": "stdout",
     "output_type": "stream",
     "text": [
      "('foo', 'bar', 'baz', 'qux', 'quux', 'corge')\n"
     ]
    }
   ],
   "source": [
    "# Defining tuples\n",
    "t = ('foo', 'bar', 'baz', 'qux', 'quux', 'corge')\n",
    "print(t)"
   ]
  },
  {
   "cell_type": "code",
   "execution_count": 2,
   "metadata": {},
   "outputs": [
    {
     "name": "stdout",
     "output_type": "stream",
     "text": [
      "foo\n"
     ]
    }
   ],
   "source": [
    "# Indexing tuples\n",
    "print(t[0])"
   ]
  },
  {
   "cell_type": "code",
   "execution_count": 3,
   "metadata": {},
   "outputs": [
    {
     "name": "stdout",
     "output_type": "stream",
     "text": [
      "corge\n"
     ]
    }
   ],
   "source": [
    "print(t[-1])"
   ]
  },
  {
   "cell_type": "code",
   "execution_count": 4,
   "metadata": {},
   "outputs": [
    {
     "name": "stdout",
     "output_type": "stream",
     "text": [
      "('bar', 'qux', 'corge')\n"
     ]
    }
   ],
   "source": [
    "print(t[1::2])"
   ]
  },
  {
   "cell_type": "markdown",
   "metadata": {},
   "source": [
    "**Note:** Even though tuples are defined using parentheses, you still index and slice tuples using square brackets, just as for strings and lists."
   ]
  },
  {
   "cell_type": "markdown",
   "metadata": {},
   "source": [
    "### Multiple tuples can be joined as show below"
   ]
  },
  {
   "cell_type": "code",
   "execution_count": 11,
   "metadata": {},
   "outputs": [
    {
     "name": "stdout",
     "output_type": "stream",
     "text": [
      "(1, 2, 3, 4, 5, 6)\n"
     ]
    }
   ],
   "source": [
    "tup1 = (1, 2, 3)\n",
    "tup2 = (4, 5, 6)\n",
    "tup3 = tup1 + tup2\n",
    "print(tup3)"
   ]
  },
  {
   "cell_type": "markdown",
   "metadata": {},
   "source": [
    "## Tuples are immutable\n",
    "\n",
    "Everything you’ve learned about lists—they are ordered, they can contain arbitrary objects, they can be indexed and sliced, they can be nested—is true of tuples as well. But they **can’t be modified**:"
   ]
  },
  {
   "cell_type": "code",
   "execution_count": 5,
   "metadata": {},
   "outputs": [
    {
     "ename": "TypeError",
     "evalue": "'tuple' object does not support item assignment",
     "output_type": "error",
     "traceback": [
      "\u001B[1;31m---------------------------------------------------------------------------\u001B[0m",
      "\u001B[1;31mTypeError\u001B[0m                                 Traceback (most recent call last)",
      "Cell \u001B[1;32mIn[5], line 2\u001B[0m\n\u001B[0;32m      1\u001B[0m t \u001B[38;5;241m=\u001B[39m (\u001B[38;5;124m'\u001B[39m\u001B[38;5;124mfoo\u001B[39m\u001B[38;5;124m'\u001B[39m, \u001B[38;5;124m'\u001B[39m\u001B[38;5;124mbar\u001B[39m\u001B[38;5;124m'\u001B[39m, \u001B[38;5;124m'\u001B[39m\u001B[38;5;124mbaz\u001B[39m\u001B[38;5;124m'\u001B[39m, \u001B[38;5;124m'\u001B[39m\u001B[38;5;124mqux\u001B[39m\u001B[38;5;124m'\u001B[39m, \u001B[38;5;124m'\u001B[39m\u001B[38;5;124mquux\u001B[39m\u001B[38;5;124m'\u001B[39m, \u001B[38;5;124m'\u001B[39m\u001B[38;5;124mcorge\u001B[39m\u001B[38;5;124m'\u001B[39m)\n\u001B[1;32m----> 2\u001B[0m \u001B[43mt\u001B[49m\u001B[43m[\u001B[49m\u001B[38;5;241;43m2\u001B[39;49m\u001B[43m]\u001B[49m \u001B[38;5;241m=\u001B[39m \u001B[38;5;124m'\u001B[39m\u001B[38;5;124mbark\u001B[39m\u001B[38;5;124m'\u001B[39m \u001B[38;5;66;03m# raises an exception because we tried to modify the tuple\u001B[39;00m\n",
      "\u001B[1;31mTypeError\u001B[0m: 'tuple' object does not support item assignment"
     ]
    }
   ],
   "source": [
    "t = ('foo', 'bar', 'baz', 'qux', 'quux', 'corge')\n",
    "t[2] = 'bark' # raises an exception because we tried to modify the tuple"
   ]
  },
  {
   "cell_type": "markdown",
   "metadata": {},
   "source": [
    "## Why use a tuple instead of a list?\n",
    "\n",
    "* Program execution is faster when manipulating a tuple than it is for the equivalent list. (This is probably not going to be noticeable when the list or tuple is small.)\n",
    "\n",
    "* Sometimes you don’t want data to be modified. If the values in the collection are meant to remain constant for the life of the program, using a tuple instead of a list guards against accidental modification.\n",
    "\n",
    "* A `tuple` can be used as a key in a `dict`, whereas a `list` can’t be."
   ]
  },
  {
   "cell_type": "markdown",
   "metadata": {},
   "source": [
    "There is one peculiarity regarding tuple definition that you should be aware of. There is no ambiguity when defining an empty tuple, nor one with two or more elements. Python knows you are defining a tuple:\n",
    "``` python\n",
    "empty_tupe = ()\n",
    "primary_colours = ('red', 'blue', 'yellow')\n",
    "```\n",
    "The ambiguity arises when defining a tuple with only one element.\n",
    "``` python\n",
    "t = (2)\n",
    "print(type(t)) # prints <class 'int'>\n",
    "```\n",
    "To tell Python that you really want to define a singleton tuple, include a trailing comma (`,`) just before the closing parenthesis:\n",
    "``` python\n",
    "t = (2,)\n",
    "print(type(t)) # prints <class 'tuple'>\n",
    "```"
   ]
  },
  {
   "attachments": {},
   "cell_type": "markdown",
   "metadata": {},
   "source": [
    "## Tuple Assignment, Packing, and Unpacking\n",
    "When declaring a tuple, it is as though the items in the tuple have been “packed” into the object:\n",
    "``` python\n",
    "t = ('foo', 'bar', 'baz', 'qux')\n",
    "print(t[0]) # prints 'foo'\n",
    "```\n",
    "If that “packed” object is subsequently assigned to a new tuple, the individual items are “unpacked” into the objects in the tuple:\n",
    "``` python\n",
    "(s1, s2, s3, s4) = t\n",
    "print(s1) # prints 'foo'\n",
    "```"
   ]
  },
  {
   "cell_type": "markdown",
   "metadata": {},
   "source": [
    "When unpacking, the number of variables on the left must match the number of values in the tuple:\n",
    "``` python\n",
    "(s1, s2, s3) = t # raises ValueError: too many values to unpack (expected 3)\n",
    "(s1, s2, s3, s4, s5) = t # raises ValueError: not enough values to unpack (expected 5, got 4)\n",
    "```"
   ]
  },
  {
   "cell_type": "markdown",
   "metadata": {},
   "source": [
    "Packing and unpacking can be combined into one statement to make a compound assignment:\n",
    "``` python\n",
    "(s1, s2, s3, s4) = ('foo', 'bar', 'baz', 'qux')\n",
    "print(s1) # prints 'foo'\n",
    "```\n",
    "Again, the number of elements in the tuple on the left of the assignment must equal the number on the right."
   ]
  },
  {
   "cell_type": "markdown",
   "metadata": {},
   "source": [
    "In assignments like this and a small handful of other situations, Python allows the parentheses that are usually used for denoting a tuple to be left out:"
   ]
  },
  {
   "cell_type": "code",
   "execution_count": 6,
   "metadata": {},
   "outputs": [
    {
     "name": "stdout",
     "output_type": "stream",
     "text": [
      "(1, 2, 3)\n"
     ]
    }
   ],
   "source": [
    "t = 1, 2, 3\n",
    "print(t)"
   ]
  },
  {
   "cell_type": "code",
   "execution_count": 7,
   "metadata": {},
   "outputs": [
    {
     "name": "stdout",
     "output_type": "stream",
     "text": [
      "1 2 3\n"
     ]
    }
   ],
   "source": [
    "x1, x2, x3 = t\n",
    "print(x1, x2, x3)"
   ]
  },
  {
   "cell_type": "code",
   "execution_count": 8,
   "metadata": {},
   "outputs": [
    {
     "name": "stdout",
     "output_type": "stream",
     "text": [
      "4 5 6\n"
     ]
    }
   ],
   "source": [
    "x1, x2, x3 = 4, 5, 6\n",
    "print(x1, x2, x3)"
   ]
  },
  {
   "cell_type": "code",
   "execution_count": 9,
   "metadata": {},
   "outputs": [
    {
     "name": "stdout",
     "output_type": "stream",
     "text": [
      "(2,)\n"
     ]
    }
   ],
   "source": [
    "t = 2,\n",
    "print(t)"
   ]
  },
  {
   "cell_type": "markdown",
   "metadata": {},
   "source": [
    "It works the same whether the parentheses are included or not, so if you have any doubt as to whether they’re needed, go ahead and include them."
   ]
  },
  {
   "cell_type": "markdown",
   "metadata": {},
   "source": [
    "### Swapping \n",
    "In Python, swapping values between two variables can be done with a single tuple assignment:"
   ]
  },
  {
   "cell_type": "code",
   "execution_count": 10,
   "metadata": {},
   "outputs": [
    {
     "name": "stdout",
     "output_type": "stream",
     "text": [
      "foo bar\n",
      "bar foo\n"
     ]
    }
   ],
   "source": [
    "a = 'foo'\n",
    "b = 'bar'\n",
    "print(a, b)\n",
    "\n",
    "# Magic time!\n",
    "a, b = b, a\n",
    "\n",
    "print(a, b)"
   ]
  },
  {
   "cell_type": "markdown",
   "metadata": {},
   "source": [
    "As anyone who has ever had to swap values using a temporary variable knows, being able to do it this way in Python is the pinnacle of modern technological achievement. It will never get better than this."
   ]
  },
  {
   "cell_type": "markdown",
   "metadata": {},
   "source": [
    "Credit: https://realpython.com/python-lists-tuples/#python-tuples"
   ]
  },
  {
   "cell_type": "markdown",
   "metadata": {},
   "source": [
    "### Questions:\n",
    "1. What is the output of the following code?\n",
    "``` python\n",
    "tup = (1, 2, 3)\n",
    "tup += (4,)\n",
    "print(tup)\n",
    "```\n",
    "2. How do you access the second element of a tuple tup?\n",
    "3. What is the difference between a tuple and a list in Python?\n",
    "4. How do you create an empty tuple in Python?\n",
    "5. What is the output of the following code?\n",
    "``` python\n",
    "tup1 = (1, 2, 3)\n",
    "tup2 = (4, 5, 6)\n",
    "tup3 = tup1 + tup2\n",
    "print(tup3)\n",
    "```\n",
    "6. Can you change the elements of a tuple after it has been created?\n",
    "7. How do you delete a tuple in Python?\n",
    "8. How do you find the length of a tuple in Python?\n",
    "9. What is the output of the following code?\n",
    "``` python\n",
    "tup = (1, 2, 3)\n",
    "tup = tup * 3\n",
    "print(tup)\n",
    "```\n",
    "10. How do you unpack a tuple into separate variables?\n",
    "11. What is the output of the following code?\n",
    "``` python\n",
    "tup = (1, 2, 3)\n",
    "print(tup[1])\n",
    "```\n",
    "12. What is the output of the following code?\n",
    "``` python\n",
    "tup = ('cat', 'dog', 'bird')\n",
    "print(tup[:2])\n",
    "```\n",
    "13. What is the output of the following code?\n",
    "``` python\n",
    "tup = (1, 2, 3, 4, 5)\n",
    "tup = tup[1:4]\n",
    "print(tup)\n",
    "```\n",
    "14. What is the output of the following code?\n",
    "``` python\n",
    "tup = (1, 2, 3)\n",
    "print(len(tup))\n",
    "```\n",
    "15. What is the output of the following code?\n",
    "``` python\n",
    "tup1 = (1, 2, 3)\n",
    "tup2 = ('a', 'b', 'c')\n",
    "tup3 = tup1 + tup2\n",
    "print(tup3)\n",
    "```\n",
    "16. What is the output of the following code?\n",
    "``` python\n",
    "tup = (1, 2, 3, 4)\n",
    "del tup[1]\n",
    "print(tup)\n",
    "```\n",
    "17. What is the output of the following code?\n",
    "``` python\n",
    "tup = (1, 2, 3)\n",
    "tup[1] = 'a'\n",
    "print(tup)\n",
    "```\n",
    "18. What is the output of the following code?\n",
    "``` python\n",
    "tup = (1, 2, 3)\n",
    "tup = tup[::2]\n",
    "print(tup)\n",
    "```\n",
    "19. What is the output of the following code?\n",
    "``` python\n",
    "tup1 = (1, 2, 3)\n",
    "tup2 = (4, 5, 6)\n",
    "tup3 = tup1 + tup2\n",
    "tup3 = tup3[::2]\n",
    "print(tup3)\n",
    "```\n",
    "20. What is the output of the following code?\n",
    "``` python\n",
    "tup = (1, 2, 3)\n",
    "tup = tup[::-1]\n",
    "print(tup)\n",
    "```\n",
    "21. How do you find the maximum element in a tuple?\n",
    "22. How do you find the minimum element in a tuple?\n",
    "23. How do you sort a tuple in Python?\n",
    "24. How do you delete an element from a tuple?\n",
    "25. How do you find the index of an element in a tuple?"
   ]
  },
  {
   "cell_type": "code",
   "execution_count": null,
   "outputs": [],
   "source": [],
   "metadata": {
    "collapsed": false
   }
  }
 ],
 "metadata": {
  "kernelspec": {
   "display_name": "Python 3 (ipykernel)",
   "language": "python",
   "name": "python3"
  },
  "language_info": {
   "codemirror_mode": {
    "name": "ipython",
    "version": 3
   },
   "file_extension": ".py",
   "mimetype": "text/x-python",
   "name": "python",
   "nbconvert_exporter": "python",
   "pygments_lexer": "ipython3",
   "version": "3.11.0"
  }
 },
 "nbformat": 4,
 "nbformat_minor": 1
}
